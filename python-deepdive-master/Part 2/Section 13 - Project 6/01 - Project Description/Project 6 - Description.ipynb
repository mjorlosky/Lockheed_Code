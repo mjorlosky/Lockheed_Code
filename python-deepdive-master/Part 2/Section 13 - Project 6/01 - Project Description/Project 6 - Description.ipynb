{
 "cells": [
  {
   "cell_type": "markdown",
   "metadata": {},
   "source": [
    "### Project 6 - Description"
   ]
  },
  {
   "cell_type": "markdown",
   "metadata": {},
   "source": [
    "The goal of this project is to rewrite the pull pipeline we created in the **Application - Pipelines - Pulling** video in the **Generators as Coroutines** section.\n",
    "\n",
    "You should look at the techniques we used in the **Application - Pipelines - Broadcasting** video and apply them here.\n",
    "\n",
    "The goal is to write a pipeline that will push data from the source file, `cars.csv`, and push it through some filters and a save coroutine to ultimately save the results as a csv file.\n",
    "\n",
    "Try to make your code as generic as possible, and don't worry about column headers in the output file (unless you really want to!)."
   ]
  },
  {
   "cell_type": "markdown",
   "metadata": {},
   "source": [
    "When you are done with your solution you should be able to specify an arbitrary number of filters on the name field.\n",
    "\n",
    "If you specify `Chevrolet`, `Carlo` and `Landau` for three filters, your output file should contain two lines of data only:"
   ]
  },
  {
   "cell_type": "markdown",
   "metadata": {},
   "source": [
    "```\n",
    "Chevrolet Monte Carlo Landau,15.5,8,350.0,170.0,4165.,11.4,77,US\n",
    "Chevrolet Monte Carlo Landau,19.2,8,305.0,145.0,3425.,13.2,78,US\n",
    "```"
   ]
  },
  {
   "cell_type": "markdown",
   "metadata": {},
   "source": [
    "Good luck!!"
   ]
  },
  {
   "cell_type": "code",
   "execution_count": 58,
   "metadata": {},
   "outputs": [],
   "source": [
    "import csv\n",
    "\n",
    "def parse_data(f_name):\n",
    "    f = open(f_name)\n",
    "    try:\n",
    "        dialect = csv.Sniffer().sniff(f.read(2000))\n",
    "        f.seek(0)\n",
    "        next(f)  # skip header row\n",
    "        yield from csv.reader(f, dialect=dialect)\n",
    "    finally:\n",
    "        f.close()"
   ]
  },
  {
   "cell_type": "code",
   "execution_count": 59,
   "metadata": {},
   "outputs": [],
   "source": [
    "def coroutine(fn):\n",
    "    def inner(*args, **kwargs):\n",
    "        coro = fn(*args, **kwargs)\n",
    "        next(coro)\n",
    "        return coro\n",
    "    return inner"
   ]
  },
  {
   "cell_type": "code",
   "execution_count": 60,
   "metadata": {},
   "outputs": [],
   "source": [
    "@coroutine\n",
    "def save_csv(f_name):\n",
    "    with open(f_name, 'w', newline='') as f:\n",
    "        writer = csv.writer(f)\n",
    "        while True:\n",
    "            row = yield\n",
    "            writer.writerow(row)\n"
   ]
  },
  {
   "cell_type": "code",
   "execution_count": 61,
   "metadata": {},
   "outputs": [],
   "source": [
    "@coroutine\n",
    "def filter_data(filter_pred, target):\n",
    "    while True:\n",
    "        row = yield\n",
    "        if filter_pred(row):\n",
    "            target.send(row)\n"
   ]
  },
  {
   "cell_type": "code",
   "execution_count": 62,
   "metadata": {},
   "outputs": [],
   "source": [
    "@coroutine\n",
    "def pipeline_coro(out_file, name_filters):\n",
    "    save = save_csv(out_file)\n",
    "    \n",
    "    target = save\n",
    "    for name_filter in name_filters:\n",
    "        target = filter_data(lambda d, v=name_filter: v in d[0], target)\n",
    "        # warning: we have to use the trick above because\n",
    "        # lambdas are actually closures and the free variable name_filter\n",
    "        # is a shared free variable - we have seen this problem before!\n",
    "    while True:\n",
    "        received = yield\n",
    "        target.send(received)"
   ]
  },
  {
   "cell_type": "code",
   "execution_count": 63,
   "metadata": {},
   "outputs": [],
   "source": [
    "from contextlib import contextmanager\n",
    "\n",
    "@contextmanager\n",
    "def pipeline(out_file, name_filters):\n",
    "    p = pipeline_coro(out_file, name_filters)\n",
    "    try:\n",
    "        yield p\n",
    "    finally:\n",
    "        p.close()"
   ]
  },
  {
   "cell_type": "code",
   "execution_count": 64,
   "metadata": {},
   "outputs": [],
   "source": [
    "with pipeline('out.csv', ('Chevrolet', 'Landua', 'Carlo')) as p:\n",
    "    for row in parse_data('cars.csv'):\n",
    "        p.send(row)"
   ]
  },
  {
   "cell_type": "code",
   "execution_count": 66,
   "metadata": {},
   "outputs": [],
   "source": [
    "with open('out.csv') as f:\n",
    "    for row in f:\n",
    "        print(row)"
   ]
  },
  {
   "cell_type": "code",
   "execution_count": null,
   "metadata": {},
   "outputs": [],
   "source": []
  }
 ],
 "metadata": {
  "kernelspec": {
   "name": "python3",
   "display_name": "Python 3.9.5 64-bit",
   "metadata": {
    "interpreter": {
     "hash": "b8bdd4e700647ba2b08c59e5df8b7da1dcf50a218bcd4c1bcd9b3dc92e8788e5"
    }
   }
  },
  "language_info": {
   "codemirror_mode": {
    "name": "ipython",
    "version": 3
   },
   "file_extension": ".py",
   "mimetype": "text/x-python",
   "name": "python",
   "nbconvert_exporter": "python",
   "pygments_lexer": "ipython3",
   "version": "3.9.5"
  }
 },
 "nbformat": 4,
 "nbformat_minor": 2
}