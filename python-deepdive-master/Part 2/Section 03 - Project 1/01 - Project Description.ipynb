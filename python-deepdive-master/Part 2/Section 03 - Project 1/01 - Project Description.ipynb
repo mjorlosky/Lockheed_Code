{
 "cells": [
  {
   "cell_type": "markdown",
   "metadata": {},
   "source": [
    "### Project"
   ]
  },
  {
   "cell_type": "markdown",
   "metadata": {},
   "source": [
    "In this project you are asked to create a sequence type that will return a series of (regular convex) Polygon objects.\n",
    "\n",
    "Each polygon will be uniquely defined by:\n",
    "* it is a regular convex polygon:\n",
    "    * edges (sides) are all of equal length\n",
    "    * angles between edges are all equal\n",
    "* the center of the polygon is `(0,0)`\n",
    "* the number of vertices (minimum `3`)\n",
    "* the distance from the center to any vertex should be `R` unit (this is sometimes described as the polygon having a *circumradius* of `R`)\n",
    "\n",
    "The sequence should be finite - so creating an instance of this sequence will require the passing in the number of polygons in the sequence to the initializer.\n",
    "\n",
    "The Polygon objects should be immutable, as should the sequence itself."
   ]
  },
  {
   "cell_type": "markdown",
   "metadata": {},
   "source": [
    "In addition, each Polygon should have the following properties:\n",
    "* number of vertices\n",
    "* number of edges (sides)\n",
    "* the edge length\n",
    "* the apothem (distance from center to mid-point of any edge)\n",
    "* surface area\n",
    "* perimeter\n",
    "* interior angle (angle between each edge) - in degrees\n",
    "* supports equality based on # edges and circumradius\n",
    "* supports ordering based on number of edges only"
   ]
  },
  {
   "cell_type": "markdown",
   "metadata": {},
   "source": [
    "The sequence object should also have the following properties:\n",
    "\n",
    "* should support fully-featured slicing and indexing (positive indices, negative indices, slicing, and extended slicing)\n",
    "* should support the `length()` function\n",
    "* should provide the polygon with the highest `area:perimeter` ratio"
   ]
  },
  {
   "cell_type": "markdown",
   "metadata": {},
   "source": [
    "You will need to do a little bit of math for this project. The necessary formulas are included in the video."
   ]
  },
  {
   "cell_type": "markdown",
   "metadata": {},
   "source": [
    "##### Goal 1"
   ]
  },
  {
   "cell_type": "markdown",
   "metadata": {},
   "source": [
    "Create a Polygon class with the properties defined above. The initializer for the class will need the number of vertices (or edges, same), and the circumradius (`R`).\n",
    "\n",
    "Make sure you test all your methods and properties. (This is called unit testing)"
   ]
  },
  {
   "cell_type": "markdown",
   "metadata": {},
   "source": [
    "##### Goal 2"
   ]
  },
  {
   "cell_type": "markdown",
   "metadata": {},
   "source": [
    "Create a finite sequence type that is a sequence of Polygons start with `3` vertices, up to, and including some maximum value `m` which will need to be passed to the initializer of the sequence type.\n",
    "\n",
    "The value for the circumradius `R`, will also need to be provided to the initializer.\n",
    "\n",
    "Again make sure you test your code!"
   ]
  },
  {
   "cell_type": "code",
   "execution_count": 47,
   "metadata": {
    "collapsed": true
   },
   "outputs": [],
   "source": [
    "import math\n",
    "\n",
    "class Polygon():\n",
    "    def __init__(self, vertices, radius):\n",
    "        if vertices < 3:\n",
    "            raise ValueError('Polygon must have at least 3 vertices.')\n",
    "        self._vertices = vertices\n",
    "        self._radius = radius\n",
    "    @property\n",
    "    def edgesNum(self):\n",
    "        return self._vertices\n",
    "    @property\n",
    "    def verticesNum(self):\n",
    "        return self._vertices\n",
    "    @property\n",
    "    def interiorAngle(self):\n",
    "        return (self._vertices - 2) * (180 / self._vertices)\n",
    "    @property\n",
    "    def edge_length(self):\n",
    "        return 2 * self._radius * math.sin(math.pi/self._vertices) \n",
    "    @property\n",
    "    def apothem(self):\n",
    "        return self._radius * math.cos(math.pi/self._vertices)\n",
    "    @property\n",
    "    def area(self):\n",
    "        return 0.5 * self._vertices * self.edge_length * self.apothem\n",
    "    @property\n",
    "    def perimeter(self):\n",
    "        return self.edge_length * self.verticesNum\n",
    "    def __repr__(self):\n",
    "        return \"Polygon with {0} sides and {1} radius\".format(self._vertices, self._radius)\n",
    "    def __eq__(self, other):\n",
    "        return self._vertices == other._vertices and self._radius == other._radius\n",
    "    def __gt__(self, other):\n",
    "        if(isinstance(other, Polygon)):\n",
    "            return self._vertices > other._vertices\n",
    "        else:\n",
    "            return False\n",
    "\n",
    "\n",
    "\n"
   ]
  },
  {
   "cell_type": "code",
   "execution_count": 48,
   "metadata": {},
   "outputs": [
    {
     "output_type": "stream",
     "name": "stdout",
     "text": [
      "4\n4\n90.0\n14.14213562373095\n7.0710678118654755\n200.0\n56.5685424949238\nPolygon with 4 sides and 10 radius\nFalse\nTrue\n"
     ]
    }
   ],
   "source": [
    "square = Polygon(4, 10)\n",
    "triangle = Polygon(3, 10)\n",
    "print(square.edgesNum)\n",
    "print(square.verticesNum)\n",
    "print(square.interiorAngle)\n",
    "print(square.edge_length)\n",
    "print(square.apothem)\n",
    "print(square.area)\n",
    "print(square.perimeter)\n",
    "print(square)\n",
    "print(square == triangle)\n",
    "print(square > triangle)"
   ]
  },
  {
   "cell_type": "code",
   "execution_count": 55,
   "metadata": {},
   "outputs": [],
   "source": [
    "class Polygons:\n",
    "    def __init__(self, m, R):\n",
    "        if m < 3:\n",
    "            raise ValueError('m must be greater than 3')\n",
    "        self._m = m\n",
    "        self._R = R\n",
    "        self._polygons = [Polygon(i, R) for i in (3, m+1)]\n",
    "\n",
    "    def __len__(self):\n",
    "        return self._m - 2\n",
    "    \n",
    "    def __repr__(self):\n",
    "        return f'Polygons(m={self._m}, R={self._R})'\n",
    "\n",
    "    def __getitem__(self, s):\n",
    "        return self._polygons[s]\n",
    "    @property\n",
    "    def maxEff(self):\n",
    "        sorted_polygons = sorted(self._polygons, \n",
    "                                    key= (lambda x: x.area/x.perimeter),\n",
    "                                    reverse=True)\n",
    "        return sorted_polygons[0]"
   ]
  },
  {
   "cell_type": "code",
   "execution_count": 65,
   "metadata": {},
   "outputs": [
    {
     "output_type": "stream",
     "name": "stdout",
     "text": [
      "Polygon with 11 sides and 1 radius\nPolygons(m=10, R=1)\n<bound method Polygons.__len__ of Polygons(m=10, R=1)>\nPolygon with 11 sides and 1 radius\n"
     ]
    }
   ],
   "source": [
    "polygons = Polygons(10, 1)\n",
    "print(polygons.maxEff)\n",
    "print(polygons)\n",
    "print(polygons.__len__)\n",
    "print(polygons[1])"
   ]
  },
  {
   "cell_type": "code",
   "execution_count": null,
   "metadata": {},
   "outputs": [],
   "source": []
  }
 ],
 "metadata": {
  "kernelspec": {
   "name": "python3",
   "display_name": "Python 3.9.5 64-bit",
   "metadata": {
    "interpreter": {
     "hash": "b8bdd4e700647ba2b08c59e5df8b7da1dcf50a218bcd4c1bcd9b3dc92e8788e5"
    }
   }
  },
  "language_info": {
   "codemirror_mode": {
    "name": "ipython",
    "version": 3
   },
   "file_extension": ".py",
   "mimetype": "text/x-python",
   "name": "python",
   "nbconvert_exporter": "python",
   "pygments_lexer": "ipython3",
   "version": "3.9.5"
  }
 },
 "nbformat": 4,
 "nbformat_minor": 2
}